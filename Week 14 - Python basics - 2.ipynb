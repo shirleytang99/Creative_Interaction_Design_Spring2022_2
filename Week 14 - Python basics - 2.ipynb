{
 "cells": [
  {
   "cell_type": "code",
   "execution_count": 1,
   "id": "98d055f3",
   "metadata": {},
   "outputs": [
    {
     "data": {
      "text/plain": [
       "int"
      ]
     },
     "execution_count": 1,
     "metadata": {},
     "output_type": "execute_result"
    }
   ],
   "source": [
    "123\n",
    "type(123)"
   ]
  },
  {
   "cell_type": "code",
   "execution_count": 2,
   "id": "e80d6ae4",
   "metadata": {},
   "outputs": [
    {
     "data": {
      "text/plain": [
       "float"
      ]
     },
     "execution_count": 2,
     "metadata": {},
     "output_type": "execute_result"
    }
   ],
   "source": [
    "123.45\n",
    "type(123.45)"
   ]
  },
  {
   "cell_type": "code",
   "execution_count": 3,
   "id": "26c9335f",
   "metadata": {},
   "outputs": [
    {
     "data": {
      "text/plain": [
       "str"
      ]
     },
     "execution_count": 3,
     "metadata": {},
     "output_type": "execute_result"
    }
   ],
   "source": [
    "'123.45'\n",
    "type('123.45')"
   ]
  },
  {
   "cell_type": "code",
   "execution_count": 4,
   "id": "a11deaa8",
   "metadata": {},
   "outputs": [
    {
     "name": "stdout",
     "output_type": "stream",
     "text": [
      "<class 'bool'>\n"
     ]
    }
   ],
   "source": [
    "sign_up = True\n",
    "print(type(sign_up))"
   ]
  },
  {
   "cell_type": "code",
   "execution_count": 5,
   "id": "0506310e",
   "metadata": {},
   "outputs": [
    {
     "name": "stdout",
     "output_type": "stream",
     "text": [
      "123 123.45 123.45\n",
      "<class 'int'> <class 'float'> <class 'str'>\n"
     ]
    }
   ],
   "source": [
    "x = 123\n",
    "y = 123.45\n",
    "z = '123.45'\n",
    "print(x,y,z)\n",
    "print(type(x),type(y),type(z))"
   ]
  },
  {
   "cell_type": "code",
   "execution_count": 6,
   "id": "72f96ced",
   "metadata": {},
   "outputs": [
    {
     "name": "stdout",
     "output_type": "stream",
     "text": [
      "Hello, world!\n"
     ]
    }
   ],
   "source": [
    "print('Hello, world!')"
   ]
  },
  {
   "cell_type": "code",
   "execution_count": 8,
   "id": "f952af1c",
   "metadata": {},
   "outputs": [
    {
     "name": "stdout",
     "output_type": "stream",
     "text": [
      "The result of123+123.45=246.45\n"
     ]
    }
   ],
   "source": [
    "z = 'The result of' + str(x) + '+' + str(y) + \"=\" + str(x+y)\n",
    "print(z)"
   ]
  },
  {
   "cell_type": "code",
   "execution_count": 9,
   "id": "3fe40cfe",
   "metadata": {},
   "outputs": [
    {
     "name": "stdout",
     "output_type": "stream",
     "text": [
      "I am\n",
      "I am from CUC.\n",
      "UC.\n"
     ]
    }
   ],
   "source": [
    "z = 'I am from CUC.'\n",
    "print(z[0:4])\n",
    "print(z[0:14])\n",
    "print(z[-3:])"
   ]
  },
  {
   "cell_type": "code",
   "execution_count": 10,
   "id": "18165f78",
   "metadata": {},
   "outputs": [
    {
     "name": "stdout",
     "output_type": "stream",
     "text": [
      "14\n"
     ]
    }
   ],
   "source": [
    "print(len(z))"
   ]
  },
  {
   "cell_type": "code",
   "execution_count": 11,
   "id": "47c7e335",
   "metadata": {},
   "outputs": [
    {
     "name": "stdout",
     "output_type": "stream",
     "text": [
      "Princess Diana Princess Kate\n"
     ]
    }
   ],
   "source": [
    "famous_person = 'Princess Diana'\n",
    "famous_person2 = famous_person.replace('Diana','Kate')\n",
    "print(famous_person, famous_person2)"
   ]
  },
  {
   "cell_type": "code",
   "execution_count": 12,
   "id": "d6361de5",
   "metadata": {},
   "outputs": [
    {
     "name": "stdout",
     "output_type": "stream",
     "text": [
      "['Princess', 'Kate']\n"
     ]
    }
   ],
   "source": [
    "print(famous_person2.split())"
   ]
  },
  {
   "cell_type": "code",
   "execution_count": 20,
   "id": "dce4ebe7",
   "metadata": {},
   "outputs": [
    {
     "name": "stdout",
     "output_type": "stream",
     "text": [
      "Prince Charles Prince William\n"
     ]
    }
   ],
   "source": [
    "famous_person3 = 'Prince Charles'\n",
    "famous_person4 = famous_person3.replace('Charles','William')\n",
    "print(famous_person3, famous_person4)"
   ]
  },
  {
   "cell_type": "code",
   "execution_count": 21,
   "id": "381518f2",
   "metadata": {},
   "outputs": [
    {
     "name": "stdout",
     "output_type": "stream",
     "text": [
      "7\n",
      "-1\n"
     ]
    }
   ],
   "source": [
    "print(famous_person4.find('William'))\n",
    "print(famous_person4.find('Charles'))"
   ]
  },
  {
   "cell_type": "code",
   "execution_count": 22,
   "id": "bfb036e0",
   "metadata": {},
   "outputs": [
    {
     "name": "stdout",
     "output_type": "stream",
     "text": [
      "PRINCE WILLIAM\n"
     ]
    }
   ],
   "source": [
    "print(famous_person4.upper())"
   ]
  },
  {
   "cell_type": "code",
   "execution_count": 23,
   "id": "caac6c31",
   "metadata": {},
   "outputs": [
    {
     "name": "stdout",
     "output_type": "stream",
     "text": [
      "(1, 1.32, 2, 'CUC')\n",
      "[1, 1.32, 2, 'CUC']\n"
     ]
    }
   ],
   "source": [
    "tuple1=(1,1.32,2,'CUC')\n",
    "list1=[1,1.32,2,'CUC']\n",
    "print(tuple1)\n",
    "print(list1)"
   ]
  },
  {
   "cell_type": "code",
   "execution_count": null,
   "id": "9a45c43c",
   "metadata": {},
   "outputs": [],
   "source": []
  },
  {
   "cell_type": "code",
   "execution_count": 24,
   "id": "66888236",
   "metadata": {},
   "outputs": [
    {
     "name": "stdout",
     "output_type": "stream",
     "text": [
      "[1, 1.5, 2, 3, 4]\n"
     ]
    }
   ],
   "source": [
    "myList =[1,2,3,4,1.5]\n",
    "print(sorted(myList))"
   ]
  },
  {
   "cell_type": "code",
   "execution_count": 28,
   "id": "56d7b7d7",
   "metadata": {},
   "outputs": [
    {
     "name": "stdout",
     "output_type": "stream",
     "text": [
      "60\n",
      "[100, 90, 80, 60, 60.5, 70, 50]\n",
      "[100, 90, 80, 60, 60.5, 70]\n",
      "[60, 60.5, 70]\n"
     ]
    }
   ],
   "source": [
    "score_list = [100,90,80,60,60.5,70]\n",
    "print(score_list[3])\n",
    "score_list.append(50)\n",
    "print(score_list)\n",
    "del(score_list[6])\n",
    "print(score_list)\n",
    "print(score_list[3:7])"
   ]
  },
  {
   "cell_type": "code",
   "execution_count": 32,
   "id": "385e6f91",
   "metadata": {},
   "outputs": [
    {
     "name": "stdout",
     "output_type": "stream",
     "text": [
      "[100, 90, 80, 60, 60.5, 70, [1, 2, 3, 'I am from CUC', True], [1, 2, 3, 'I am from CUC', True], [1, 2, 3, 'I am from CUC', True], [11, 22, 33, [44, 55, 66]], [1, 2, 3, 'I am from CUC', True]]\n",
      "[100, 90, 80, 60, 60.5, 70, [1, 2, 3, 'I am from CUC', True], [1, 2, 3, 'I am from CUC', True], [1, 2, 3, 'I am from CUC', True], [11, 22, 33, [44, 55, 66]], [1, 2, 3, 'I am from CUC', True], [11, 22, 33, [44, 55, 66]]]\n",
      "[90, 80, 60, 60.5, 70, [1, 2, 3, 'I am from CUC', True], [1, 2, 3, 'I am from CUC', True], [1, 2, 3, 'I am from CUC', True], [11, 22, 33, [44, 55, 66]], [1, 2, 3, 'I am from CUC', True], [11, 22, 33, [44, 55, 66]]]\n"
     ]
    }
   ],
   "source": [
    "score_list.append([1,2,3,'I am from CUC',True])\n",
    "print(score_list)\n",
    "second_list =[11,22,33]\n",
    "second_list.append([44,55,66])\n",
    "score_list.append(second_list)\n",
    "print(score_list)\n",
    "score_list.remove(100)\n",
    "print(score_list)"
   ]
  },
  {
   "cell_type": "code",
   "execution_count": 40,
   "id": "bb6e54d7",
   "metadata": {},
   "outputs": [
    {
     "name": "stdout",
     "output_type": "stream",
     "text": [
      "{1, 2, 3, 4}\n"
     ]
    }
   ],
   "source": [
    "s1 = {1,2,3}\n",
    "s2 = set([1,2,3])\n",
    "type(s1)\n",
    "type(s2)\n",
    "my_set = {1,2,2,3,3,4}\n",
    "print(my_set)"
   ]
  },
  {
   "cell_type": "code",
   "execution_count": 38,
   "id": "e380134f",
   "metadata": {},
   "outputs": [
    {
     "name": "stdout",
     "output_type": "stream",
     "text": [
      "{'Peter': 80, 'Mary': 90, 'David': 70}\n",
      "dict_keys(['Peter', 'Mary', 'David'])\n",
      "dict_values([80, 90, 70])\n",
      "80\n",
      "[{'Peter': 80, 'Mary': 90, 'David': 70}]\n"
     ]
    }
   ],
   "source": [
    "dict1 = {'Peter':80,'Mary':90,'David':70}\n",
    "print(dict1)\n",
    "print(dict1.keys())\n",
    "print(dict1.values())\n",
    "print(dict1['Peter'])\n",
    "score_list = []\n",
    "score_list.append(dict1)\n",
    "print(score_list)"
   ]
  },
  {
   "cell_type": "code",
   "execution_count": 39,
   "id": "e2153931",
   "metadata": {},
   "outputs": [
    {
     "name": "stdout",
     "output_type": "stream",
     "text": [
      "[{'Peter': 50, 'Mary': 80, 'David': 80}, {'Peter': 80, 'Mary': 90, 'David': 70}]\n"
     ]
    }
   ],
   "source": [
    "test1 = {'Peter':50,'Mary':80,'David':80}\n",
    "assignment1 = {'Peter':80,'Mary':90,'David':70}\n",
    "score_list = []\n",
    "score_list.append(test1)\n",
    "score_list.append(assignment1)\n",
    "print(score_list)"
   ]
  }
 ],
 "metadata": {
  "kernelspec": {
   "display_name": "Python 3",
   "language": "python",
   "name": "python3"
  },
  "language_info": {
   "codemirror_mode": {
    "name": "ipython",
    "version": 3
   },
   "file_extension": ".py",
   "mimetype": "text/x-python",
   "name": "python",
   "nbconvert_exporter": "python",
   "pygments_lexer": "ipython3",
   "version": "3.8.8"
  }
 },
 "nbformat": 4,
 "nbformat_minor": 5
}
